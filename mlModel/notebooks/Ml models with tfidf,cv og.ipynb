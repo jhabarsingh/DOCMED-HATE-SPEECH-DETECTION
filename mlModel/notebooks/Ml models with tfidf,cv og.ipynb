{
 "cells": [
  {
   "cell_type": "code",
   "execution_count": 2,
   "metadata": {},
   "outputs": [],
   "source": [
    "from sklearn.feature_extraction.text import CountVectorizer\n",
    "from sklearn.feature_extraction.text import TfidfTransformer\n",
    "from sklearn.linear_model import SGDClassifier\n",
    "from sklearn.naive_bayes import MultinomialNB\n",
    "from sklearn.linear_model import LogisticRegression"
   ]
  },
  {
   "cell_type": "code",
   "execution_count": 3,
   "metadata": {},
   "outputs": [],
   "source": [
    "import pandas as pd\n",
    "data=pd.read_csv(\"dfml1.csv\")"
   ]
  },
  {
   "cell_type": "code",
   "execution_count": 4,
   "metadata": {},
   "outputs": [
    {
     "data": {
      "text/html": [
       "<div>\n",
       "<style scoped>\n",
       "    .dataframe tbody tr th:only-of-type {\n",
       "        vertical-align: middle;\n",
       "    }\n",
       "\n",
       "    .dataframe tbody tr th {\n",
       "        vertical-align: top;\n",
       "    }\n",
       "\n",
       "    .dataframe thead th {\n",
       "        text-align: right;\n",
       "    }\n",
       "</style>\n",
       "<table border=\"1\" class=\"dataframe\">\n",
       "  <thead>\n",
       "    <tr style=\"text-align: right;\">\n",
       "      <th></th>\n",
       "      <th>Unnamed: 0</th>\n",
       "      <th>label</th>\n",
       "      <th>Clean_tweet2</th>\n",
       "    </tr>\n",
       "  </thead>\n",
       "  <tbody>\n",
       "    <tr>\n",
       "      <th>0</th>\n",
       "      <td>0</td>\n",
       "      <td>0</td>\n",
       "      <td>father dysfunctional significant selfish drag ...</td>\n",
       "    </tr>\n",
       "    <tr>\n",
       "      <th>1</th>\n",
       "      <td>1</td>\n",
       "      <td>0</td>\n",
       "      <td>thanks lyft credit use cause offer wheelchair ...</td>\n",
       "    </tr>\n",
       "    <tr>\n",
       "      <th>2</th>\n",
       "      <td>2</td>\n",
       "      <td>0</td>\n",
       "      <td>birthday majesty</td>\n",
       "    </tr>\n",
       "    <tr>\n",
       "      <th>3</th>\n",
       "      <td>3</td>\n",
       "      <td>0</td>\n",
       "      <td>model love take time</td>\n",
       "    </tr>\n",
       "    <tr>\n",
       "      <th>4</th>\n",
       "      <td>4</td>\n",
       "      <td>0</td>\n",
       "      <td>fact guide society motivation</td>\n",
       "    </tr>\n",
       "  </tbody>\n",
       "</table>\n",
       "</div>"
      ],
      "text/plain": [
       "   Unnamed: 0  label                                       Clean_tweet2\n",
       "0           0      0  father dysfunctional significant selfish drag ...\n",
       "1           1      0  thanks lyft credit use cause offer wheelchair ...\n",
       "2           2      0                                   birthday majesty\n",
       "3           3      0                               model love take time\n",
       "4           4      0                      fact guide society motivation"
      ]
     },
     "execution_count": 4,
     "metadata": {},
     "output_type": "execute_result"
    }
   ],
   "source": [
    "data.head()"
   ]
  },
  {
   "cell_type": "code",
   "execution_count": 7,
   "metadata": {},
   "outputs": [],
   "source": [
    "data.dropna(inplace=True)"
   ]
  },
  {
   "cell_type": "code",
   "execution_count": 9,
   "metadata": {},
   "outputs": [
    {
     "name": "stdout",
     "output_type": "stream",
     "text": [
      "Shape of BOW (40867, 26317)\n"
     ]
    }
   ],
   "source": [
    "cvec=CountVectorizer()\n",
    "bow=cvec.fit_transform(data.Clean_tweet2)\n",
    "print(\"Shape of BOW\",bow.shape)\n",
    "newdf=pd.DataFrame.sparse.from_spmatrix(bow,columns=cvec.get_feature_names(),index=data.index)"
   ]
  },
  {
   "cell_type": "code",
   "execution_count": 10,
   "metadata": {},
   "outputs": [],
   "source": [
    "from sklearn.linear_model import LogisticRegression\n",
    "from sklearn.model_selection import train_test_split"
   ]
  },
  {
   "cell_type": "code",
   "execution_count": 49,
   "metadata": {},
   "outputs": [],
   "source": [
    "def create_model(x,y):\n",
    "    x_train,x_test,y_train,y_test=train_test_split(x,y,random_state = 0)\n",
    "    classifier=LogisticRegression()\n",
    "    model=classifier.fit(x_train,y_train)\n",
    "    return model,x_test,y_test"
   ]
  },
  {
   "cell_type": "code",
   "execution_count": 50,
   "metadata": {},
   "outputs": [],
   "source": [
    "model,x_test,y_test=create_model(newdf,data.label)"
   ]
  },
  {
   "cell_type": "code",
   "execution_count": 13,
   "metadata": {},
   "outputs": [],
   "source": [
    "from sklearn.metrics import accuracy_score\n",
    "from sklearn.metrics import precision_score\n",
    "from sklearn.metrics import recall_score\n",
    "from sklearn.metrics import f1_score"
   ]
  },
  {
   "cell_type": "code",
   "execution_count": 14,
   "metadata": {},
   "outputs": [
    {
     "data": {
      "text/plain": [
       "0.893286480488256"
      ]
     },
     "execution_count": 14,
     "metadata": {},
     "output_type": "execute_result"
    }
   ],
   "source": [
    "f1_score(y_test,model.predict(x_test))"
   ]
  },
  {
   "cell_type": "code",
   "execution_count": null,
   "metadata": {},
   "outputs": [],
   "source": []
  },
  {
   "cell_type": "code",
   "execution_count": 41,
   "metadata": {},
   "outputs": [],
   "source": [
    "def create_modelSGD(x,y):\n",
    "    x_train,x_test,y_train,y_test=train_test_split(x,y,random_state = 0)\n",
    "    classifier=SGDClassifier()\n",
    "    model=classifier.fit(x_train,y_train)\n",
    "    return model,x_test,y_test"
   ]
  },
  {
   "cell_type": "code",
   "execution_count": 42,
   "metadata": {},
   "outputs": [],
   "source": [
    "model,x_test,y_test=create_modelSGD(newdf,data.label)"
   ]
  },
  {
   "cell_type": "code",
   "execution_count": 43,
   "metadata": {},
   "outputs": [
    {
     "name": "stdout",
     "output_type": "stream",
     "text": [
      "0.8960029607698002\n"
     ]
    }
   ],
   "source": [
    "print(f1_score(y_test,model.predict(x_test)))"
   ]
  },
  {
   "cell_type": "code",
   "execution_count": null,
   "metadata": {},
   "outputs": [],
   "source": []
  },
  {
   "cell_type": "code",
   "execution_count": 45,
   "metadata": {},
   "outputs": [],
   "source": [
    "def create_modelmnb(x,y):\n",
    "    x_train,x_test,y_train,y_test=train_test_split(x,y,random_state = 0)\n",
    "    classifier=MultinomialNB()\n",
    "    model=classifier.fit(x_train,y_train)\n",
    "    return classsifier,model,x_test,y_test"
   ]
  },
  {
   "cell_type": "code",
   "execution_count": 46,
   "metadata": {},
   "outputs": [
    {
     "name": "stdout",
     "output_type": "stream",
     "text": [
      "0.8959793434157138\n"
     ]
    }
   ],
   "source": [
    "mnb,model,x_test,y_test=create_modelSGD(newdf,data.label)\n",
    "print(f1_score(y_test,model.predict(x_test)))"
   ]
  },
  {
   "cell_type": "code",
   "execution_count": null,
   "metadata": {},
   "outputs": [],
   "source": []
  },
  {
   "cell_type": "code",
   "execution_count": null,
   "metadata": {},
   "outputs": [],
   "source": []
  },
  {
   "cell_type": "markdown",
   "metadata": {},
   "source": [
    "#### TFidf"
   ]
  },
  {
   "cell_type": "code",
   "execution_count": 52,
   "metadata": {},
   "outputs": [],
   "source": [
    "from sklearn.feature_extraction.text import TfidfVectorizer\n",
    "x_train,x_test,y_train,y_test=train_test_split(newdf,data.label,random_state = 0)\n",
    "vectorizer=TfidfVectorizer(analyzer=\"word\",max_features=100000,lowercase=True,stop_words=\"english\")\n",
    "vectorizer.fit(data['Clean_tweet2'])\n",
    "x_train_tfidf=vectorizer.transform(x_train)\n",
    "x_test_tfidf=vectorizer.transform(x_test )"
   ]
  },
  {
   "cell_type": "code",
   "execution_count": 27,
   "metadata": {},
   "outputs": [],
   "source": [
    "def metrics_classification(sm_xtrain_tfidf,sm_train_y,x_test_tfidf,y_test):\n",
    "    lg=LogisticRegression(max_iter=100000)\n",
    "    model=lg.fit(sm_xtrain_tfidf,sm_train_y)\n",
    "    predictions = model.predict(x_test_tfidf)\n",
    "    f1=f1_score(y_test,predictions)\n",
    "    rc=recall_score(y_test,predictions)\n",
    "    prc=precision_score(y_test,predictions)\n",
    "    return(f1,rc,prc)"
   ]
  },
  {
   "cell_type": "code",
   "execution_count": 28,
   "metadata": {},
   "outputs": [
    {
     "data": {
      "text/plain": [
       "(0.8947564150241726, 0.8755458515283843, 0.914828897338403)"
      ]
     },
     "execution_count": 28,
     "metadata": {},
     "output_type": "execute_result"
    }
   ],
   "source": [
    "metrics_classification(x_train,y_train,x_test,y_test)"
   ]
  },
  {
   "cell_type": "code",
   "execution_count": 53,
   "metadata": {},
   "outputs": [],
   "source": [
    "def metrics_classificationsgd(sm_xtrain_tfidf,sm_train_y,x_test_tfidf,y_test):\n",
    "    classifier=SGDClassifier()\n",
    "    model=classifier.fit(sm_xtrain_tfidf,sm_train_y)\n",
    "    predictions = model.predict(x_test_tfidf)\n",
    "    f1=f1_score(y_test,predictions)\n",
    "    rc=recall_score(y_test,predictions)\n",
    "    prc=precision_score(y_test,predictions)\n",
    "    return(f1,rc,prc)"
   ]
  },
  {
   "cell_type": "code",
   "execution_count": 54,
   "metadata": {},
   "outputs": [
    {
     "data": {
      "text/plain": [
       "(0.8975160993560258, 0.8875545851528385, 0.9077037588388538)"
      ]
     },
     "execution_count": 54,
     "metadata": {},
     "output_type": "execute_result"
    }
   ],
   "source": [
    "metrics_classificationsgd(x_train,y_train,x_test,y_test)"
   ]
  },
  {
   "cell_type": "code",
   "execution_count": 56,
   "metadata": {},
   "outputs": [],
   "source": [
    "def metrics_classificationsmnb(sm_xtrain_tfidf,sm_train_y,x_test_tfidf,y_test):\n",
    "    classifier=MultinomialNB()\n",
    "    model=classifier.fit(sm_xtrain_tfidf,sm_train_y)\n",
    "    predictions = model.predict(x_test_tfidf)\n",
    "    f1=f1_score(y_test,predictions)\n",
    "    rc=recall_score(y_test,predictions)\n",
    "    prc=precision_score(y_test,predictions)\n",
    "    return(f1,rc,prc)"
   ]
  },
  {
   "cell_type": "code",
   "execution_count": 57,
   "metadata": {},
   "outputs": [
    {
     "data": {
      "text/plain": [
       "(0.8651525904897089, 0.8871906841339156, 0.8441828254847645)"
      ]
     },
     "execution_count": 57,
     "metadata": {},
     "output_type": "execute_result"
    }
   ],
   "source": [
    "metrics_classificationsmnb(x_train,y_train,x_test,y_test)"
   ]
  }
 ],
 "metadata": {
  "kernelspec": {
   "display_name": "Python 3",
   "language": "python",
   "name": "python3"
  },
  "language_info": {
   "codemirror_mode": {
    "name": "ipython",
    "version": 3
   },
   "file_extension": ".py",
   "mimetype": "text/x-python",
   "name": "python",
   "nbconvert_exporter": "python",
   "pygments_lexer": "ipython3",
   "version": "3.7.7"
  }
 },
 "nbformat": 4,
 "nbformat_minor": 4
}
